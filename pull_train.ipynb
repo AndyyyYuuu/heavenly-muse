{
 "cells": [
  {
   "cell_type": "markdown",
   "id": "68ec8b94-f76a-4f23-a878-e013705a464b",
   "metadata": {},
   "source": [
    "## Jupyter + Vast.ai Training Commands\n",
    "Do not run this here. Instead, upload the notebook to Vast.ai to train. "
   ]
  },
  {
   "cell_type": "code",
   "execution_count": null,
   "id": "36395189-856c-400a-b595-2db353f14290",
   "metadata": {},
   "outputs": [],
   "source": [
    "!git clone https://github.com/AndyyyYuuu/heavenly-muse.git"
   ]
  },
  {
   "cell_type": "code",
   "execution_count": null,
   "id": "0ccecc54-7d0d-468d-8880-9d2fe2a38b68",
   "metadata": {},
   "outputs": [],
   "source": [
    "!git pull https://github.com/AndyyyYuuu/heavenly-muse.git main\n",
    "!pip install tqdm\n",
    "%run heavenly-muse/train.py"
   ]
  },
  {
   "cell_type": "code",
   "execution_count": null,
   "id": "209d951b-d2d2-4bda-8e7e-50c3f77a288d",
   "metadata": {},
   "outputs": [],
   "source": []
  }
 ],
 "metadata": {
  "kernelspec": {
   "display_name": "Python 3 (ipykernel)",
   "language": "python",
   "name": "python3"
  },
  "language_info": {
   "codemirror_mode": {
    "name": "ipython",
    "version": 3
   },
   "file_extension": ".py",
   "mimetype": "text/x-python",
   "name": "python",
   "nbconvert_exporter": "python",
   "pygments_lexer": "ipython3",
   "version": "3.11.1"
  }
 },
 "nbformat": 4,
 "nbformat_minor": 5
}
