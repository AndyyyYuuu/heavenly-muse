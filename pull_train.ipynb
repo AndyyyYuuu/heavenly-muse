{
 "cells": [
  {
   "cell_type": "markdown",
   "id": "68ec8b94-f76a-4f23-a878-e013705a464b",
   "metadata": {},
   "source": [
    "## Heavenly-Muse: Jupyter Training Commands\n",
    "Notebook containing code to pull and run this project's files from Github. "
   ]
  },
  {
   "cell_type": "code",
   "execution_count": null,
   "id": "209d951b-d2d2-4bda-8e7e-50c3f77a288d",
   "metadata": {},
   "outputs": [],
   "source": [
    "# Installs\n",
    "!pip install tqdm"
   ]
  },
  {
   "cell_type": "code",
   "execution_count": null,
   "id": "36395189-856c-400a-b595-2db353f14290",
   "metadata": {
    "scrolled": true
   },
   "outputs": [],
   "source": [
    "# Clone project from Github (one-time)\n",
    "%cd /\n",
    "!git clone --single-branch --depth 1 https://github.com/AndyyyYuuu/heavenly-muse.git\n",
    "%cd heavenly-muse/textGen"
   ]
  },
  {
   "cell_type": "code",
   "execution_count": null,
   "id": "0ccecc54-7d0d-468d-8880-9d2fe2a38b68",
   "metadata": {},
   "outputs": [],
   "source": [
    "# Pull project changes from Github\n",
    "%cd /\n",
    "!git pull  --single-branch --depth 1 https://github.com/AndyyyYuuu/heavenly-muse.git\n",
    "%cd heavenly-muse/textGen"
   ]
  },
  {
   "cell_type": "code",
   "execution_count": null,
   "id": "ae85bdc5-236b-4080-b418-92e57b08a9aa",
   "metadata": {},
   "outputs": [],
   "source": [
    "# Training\n",
    "%run train.py"
   ]
  },
  {
   "cell_type": "code",
   "execution_count": null,
   "id": "ad815c0f-241a-4510-b245-1d4fa5d57db0",
   "metadata": {},
   "outputs": [],
   "source": [
    "# Generating\n",
    "%run generate.py"
   ]
  }
 ],
 "metadata": {
  "kernelspec": {
   "display_name": "Python 3 (ipykernel)",
   "language": "python",
   "name": "python3"
  },
  "language_info": {
   "codemirror_mode": {
    "name": "ipython",
    "version": 3
   },
   "file_extension": ".py",
   "mimetype": "text/x-python",
   "name": "python",
   "nbconvert_exporter": "python",
   "pygments_lexer": "ipython3",
   "version": "3.11.1"
  }
 },
 "nbformat": 4,
 "nbformat_minor": 5
}
